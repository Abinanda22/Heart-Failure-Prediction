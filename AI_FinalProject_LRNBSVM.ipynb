{
  "nbformat": 4,
  "nbformat_minor": 0,
  "metadata": {
    "colab": {
      "provenance": []
    },
    "kernelspec": {
      "name": "python3",
      "display_name": "Python 3"
    },
    "language_info": {
      "name": "python"
    }
  },
  "cells": [
    {
      "cell_type": "code",
      "execution_count": null,
      "metadata": {
        "id": "rEUCBQnAoGM4"
      },
      "outputs": [],
      "source": [
        "import pandas as pd\n",
        "import numpy as np\n",
        "from sklearn.preprocessing import StandardScaler\n",
        "from sklearn.model_selection import train_test_split, cross_val_score\n",
        "#libraries for LR\n",
        "from sklearn.linear_model import LogisticRegression\n",
        "#libraries for NB\n",
        "from sklearn.naive_bayes import GaussianNB\n",
        "#librares for SVM\n",
        "from sklearn.svm import SVC\n",
        "from sklearn.metrics import confusion_matrix, accuracy_score, precision_score, recall_score\n",
        "from matplotlib import pyplot as plt\n",
        "import seaborn as sns"
      ]
    },
    {
      "cell_type": "code",
      "source": [
        "#load dataset into pandas\n",
        "HFP_dataset = pd.read_csv('heart.csv')\n",
        "HFP_dataset.head()"
      ],
      "metadata": {
        "colab": {
          "base_uri": "https://localhost:8080/",
          "height": 206
        },
        "id": "yqz0JFBFoZ-n",
        "outputId": "aa3cb0b3-48d6-459a-e7a3-bb62984d8473"
      },
      "execution_count": null,
      "outputs": [
        {
          "output_type": "execute_result",
          "data": {
            "text/plain": [
              "   Age Sex ChestPainType  RestingBP  Cholesterol  FastingBS RestingECG  MaxHR  \\\n",
              "0   40   M           ATA        140          289          0     Normal    172   \n",
              "1   49   F           NAP        160          180          0     Normal    156   \n",
              "2   37   M           ATA        130          283          0         ST     98   \n",
              "3   48   F           ASY        138          214          0     Normal    108   \n",
              "4   54   M           NAP        150          195          0     Normal    122   \n",
              "\n",
              "  ExerciseAngina  Oldpeak ST_Slope  HeartDisease  \n",
              "0              N      0.0       Up             0  \n",
              "1              N      1.0     Flat             1  \n",
              "2              N      0.0       Up             0  \n",
              "3              Y      1.5     Flat             1  \n",
              "4              N      0.0       Up             0  "
            ],
            "text/html": [
              "\n",
              "  <div id=\"df-a05761fe-bc8c-4f57-928b-627d793ccf30\" class=\"colab-df-container\">\n",
              "    <div>\n",
              "<style scoped>\n",
              "    .dataframe tbody tr th:only-of-type {\n",
              "        vertical-align: middle;\n",
              "    }\n",
              "\n",
              "    .dataframe tbody tr th {\n",
              "        vertical-align: top;\n",
              "    }\n",
              "\n",
              "    .dataframe thead th {\n",
              "        text-align: right;\n",
              "    }\n",
              "</style>\n",
              "<table border=\"1\" class=\"dataframe\">\n",
              "  <thead>\n",
              "    <tr style=\"text-align: right;\">\n",
              "      <th></th>\n",
              "      <th>Age</th>\n",
              "      <th>Sex</th>\n",
              "      <th>ChestPainType</th>\n",
              "      <th>RestingBP</th>\n",
              "      <th>Cholesterol</th>\n",
              "      <th>FastingBS</th>\n",
              "      <th>RestingECG</th>\n",
              "      <th>MaxHR</th>\n",
              "      <th>ExerciseAngina</th>\n",
              "      <th>Oldpeak</th>\n",
              "      <th>ST_Slope</th>\n",
              "      <th>HeartDisease</th>\n",
              "    </tr>\n",
              "  </thead>\n",
              "  <tbody>\n",
              "    <tr>\n",
              "      <th>0</th>\n",
              "      <td>40</td>\n",
              "      <td>M</td>\n",
              "      <td>ATA</td>\n",
              "      <td>140</td>\n",
              "      <td>289</td>\n",
              "      <td>0</td>\n",
              "      <td>Normal</td>\n",
              "      <td>172</td>\n",
              "      <td>N</td>\n",
              "      <td>0.0</td>\n",
              "      <td>Up</td>\n",
              "      <td>0</td>\n",
              "    </tr>\n",
              "    <tr>\n",
              "      <th>1</th>\n",
              "      <td>49</td>\n",
              "      <td>F</td>\n",
              "      <td>NAP</td>\n",
              "      <td>160</td>\n",
              "      <td>180</td>\n",
              "      <td>0</td>\n",
              "      <td>Normal</td>\n",
              "      <td>156</td>\n",
              "      <td>N</td>\n",
              "      <td>1.0</td>\n",
              "      <td>Flat</td>\n",
              "      <td>1</td>\n",
              "    </tr>\n",
              "    <tr>\n",
              "      <th>2</th>\n",
              "      <td>37</td>\n",
              "      <td>M</td>\n",
              "      <td>ATA</td>\n",
              "      <td>130</td>\n",
              "      <td>283</td>\n",
              "      <td>0</td>\n",
              "      <td>ST</td>\n",
              "      <td>98</td>\n",
              "      <td>N</td>\n",
              "      <td>0.0</td>\n",
              "      <td>Up</td>\n",
              "      <td>0</td>\n",
              "    </tr>\n",
              "    <tr>\n",
              "      <th>3</th>\n",
              "      <td>48</td>\n",
              "      <td>F</td>\n",
              "      <td>ASY</td>\n",
              "      <td>138</td>\n",
              "      <td>214</td>\n",
              "      <td>0</td>\n",
              "      <td>Normal</td>\n",
              "      <td>108</td>\n",
              "      <td>Y</td>\n",
              "      <td>1.5</td>\n",
              "      <td>Flat</td>\n",
              "      <td>1</td>\n",
              "    </tr>\n",
              "    <tr>\n",
              "      <th>4</th>\n",
              "      <td>54</td>\n",
              "      <td>M</td>\n",
              "      <td>NAP</td>\n",
              "      <td>150</td>\n",
              "      <td>195</td>\n",
              "      <td>0</td>\n",
              "      <td>Normal</td>\n",
              "      <td>122</td>\n",
              "      <td>N</td>\n",
              "      <td>0.0</td>\n",
              "      <td>Up</td>\n",
              "      <td>0</td>\n",
              "    </tr>\n",
              "  </tbody>\n",
              "</table>\n",
              "</div>\n",
              "    <div class=\"colab-df-buttons\">\n",
              "\n",
              "  <div class=\"colab-df-container\">\n",
              "    <button class=\"colab-df-convert\" onclick=\"convertToInteractive('df-a05761fe-bc8c-4f57-928b-627d793ccf30')\"\n",
              "            title=\"Convert this dataframe to an interactive table.\"\n",
              "            style=\"display:none;\">\n",
              "\n",
              "  <svg xmlns=\"http://www.w3.org/2000/svg\" height=\"24px\" viewBox=\"0 -960 960 960\">\n",
              "    <path d=\"M120-120v-720h720v720H120Zm60-500h600v-160H180v160Zm220 220h160v-160H400v160Zm0 220h160v-160H400v160ZM180-400h160v-160H180v160Zm440 0h160v-160H620v160ZM180-180h160v-160H180v160Zm440 0h160v-160H620v160Z\"/>\n",
              "  </svg>\n",
              "    </button>\n",
              "\n",
              "  <style>\n",
              "    .colab-df-container {\n",
              "      display:flex;\n",
              "      gap: 12px;\n",
              "    }\n",
              "\n",
              "    .colab-df-convert {\n",
              "      background-color: #E8F0FE;\n",
              "      border: none;\n",
              "      border-radius: 50%;\n",
              "      cursor: pointer;\n",
              "      display: none;\n",
              "      fill: #1967D2;\n",
              "      height: 32px;\n",
              "      padding: 0 0 0 0;\n",
              "      width: 32px;\n",
              "    }\n",
              "\n",
              "    .colab-df-convert:hover {\n",
              "      background-color: #E2EBFA;\n",
              "      box-shadow: 0px 1px 2px rgba(60, 64, 67, 0.3), 0px 1px 3px 1px rgba(60, 64, 67, 0.15);\n",
              "      fill: #174EA6;\n",
              "    }\n",
              "\n",
              "    .colab-df-buttons div {\n",
              "      margin-bottom: 4px;\n",
              "    }\n",
              "\n",
              "    [theme=dark] .colab-df-convert {\n",
              "      background-color: #3B4455;\n",
              "      fill: #D2E3FC;\n",
              "    }\n",
              "\n",
              "    [theme=dark] .colab-df-convert:hover {\n",
              "      background-color: #434B5C;\n",
              "      box-shadow: 0px 1px 3px 1px rgba(0, 0, 0, 0.15);\n",
              "      filter: drop-shadow(0px 1px 2px rgba(0, 0, 0, 0.3));\n",
              "      fill: #FFFFFF;\n",
              "    }\n",
              "  </style>\n",
              "\n",
              "    <script>\n",
              "      const buttonEl =\n",
              "        document.querySelector('#df-a05761fe-bc8c-4f57-928b-627d793ccf30 button.colab-df-convert');\n",
              "      buttonEl.style.display =\n",
              "        google.colab.kernel.accessAllowed ? 'block' : 'none';\n",
              "\n",
              "      async function convertToInteractive(key) {\n",
              "        const element = document.querySelector('#df-a05761fe-bc8c-4f57-928b-627d793ccf30');\n",
              "        const dataTable =\n",
              "          await google.colab.kernel.invokeFunction('convertToInteractive',\n",
              "                                                    [key], {});\n",
              "        if (!dataTable) return;\n",
              "\n",
              "        const docLinkHtml = 'Like what you see? Visit the ' +\n",
              "          '<a target=\"_blank\" href=https://colab.research.google.com/notebooks/data_table.ipynb>data table notebook</a>'\n",
              "          + ' to learn more about interactive tables.';\n",
              "        element.innerHTML = '';\n",
              "        dataTable['output_type'] = 'display_data';\n",
              "        await google.colab.output.renderOutput(dataTable, element);\n",
              "        const docLink = document.createElement('div');\n",
              "        docLink.innerHTML = docLinkHtml;\n",
              "        element.appendChild(docLink);\n",
              "      }\n",
              "    </script>\n",
              "  </div>\n",
              "\n",
              "\n",
              "<div id=\"df-d735c497-e50f-47eb-b4ab-99f4d998d50b\">\n",
              "  <button class=\"colab-df-quickchart\" onclick=\"quickchart('df-d735c497-e50f-47eb-b4ab-99f4d998d50b')\"\n",
              "            title=\"Suggest charts\"\n",
              "            style=\"display:none;\">\n",
              "\n",
              "<svg xmlns=\"http://www.w3.org/2000/svg\" height=\"24px\"viewBox=\"0 0 24 24\"\n",
              "     width=\"24px\">\n",
              "    <g>\n",
              "        <path d=\"M19 3H5c-1.1 0-2 .9-2 2v14c0 1.1.9 2 2 2h14c1.1 0 2-.9 2-2V5c0-1.1-.9-2-2-2zM9 17H7v-7h2v7zm4 0h-2V7h2v10zm4 0h-2v-4h2v4z\"/>\n",
              "    </g>\n",
              "</svg>\n",
              "  </button>\n",
              "\n",
              "<style>\n",
              "  .colab-df-quickchart {\n",
              "      --bg-color: #E8F0FE;\n",
              "      --fill-color: #1967D2;\n",
              "      --hover-bg-color: #E2EBFA;\n",
              "      --hover-fill-color: #174EA6;\n",
              "      --disabled-fill-color: #AAA;\n",
              "      --disabled-bg-color: #DDD;\n",
              "  }\n",
              "\n",
              "  [theme=dark] .colab-df-quickchart {\n",
              "      --bg-color: #3B4455;\n",
              "      --fill-color: #D2E3FC;\n",
              "      --hover-bg-color: #434B5C;\n",
              "      --hover-fill-color: #FFFFFF;\n",
              "      --disabled-bg-color: #3B4455;\n",
              "      --disabled-fill-color: #666;\n",
              "  }\n",
              "\n",
              "  .colab-df-quickchart {\n",
              "    background-color: var(--bg-color);\n",
              "    border: none;\n",
              "    border-radius: 50%;\n",
              "    cursor: pointer;\n",
              "    display: none;\n",
              "    fill: var(--fill-color);\n",
              "    height: 32px;\n",
              "    padding: 0;\n",
              "    width: 32px;\n",
              "  }\n",
              "\n",
              "  .colab-df-quickchart:hover {\n",
              "    background-color: var(--hover-bg-color);\n",
              "    box-shadow: 0 1px 2px rgba(60, 64, 67, 0.3), 0 1px 3px 1px rgba(60, 64, 67, 0.15);\n",
              "    fill: var(--button-hover-fill-color);\n",
              "  }\n",
              "\n",
              "  .colab-df-quickchart-complete:disabled,\n",
              "  .colab-df-quickchart-complete:disabled:hover {\n",
              "    background-color: var(--disabled-bg-color);\n",
              "    fill: var(--disabled-fill-color);\n",
              "    box-shadow: none;\n",
              "  }\n",
              "\n",
              "  .colab-df-spinner {\n",
              "    border: 2px solid var(--fill-color);\n",
              "    border-color: transparent;\n",
              "    border-bottom-color: var(--fill-color);\n",
              "    animation:\n",
              "      spin 1s steps(1) infinite;\n",
              "  }\n",
              "\n",
              "  @keyframes spin {\n",
              "    0% {\n",
              "      border-color: transparent;\n",
              "      border-bottom-color: var(--fill-color);\n",
              "      border-left-color: var(--fill-color);\n",
              "    }\n",
              "    20% {\n",
              "      border-color: transparent;\n",
              "      border-left-color: var(--fill-color);\n",
              "      border-top-color: var(--fill-color);\n",
              "    }\n",
              "    30% {\n",
              "      border-color: transparent;\n",
              "      border-left-color: var(--fill-color);\n",
              "      border-top-color: var(--fill-color);\n",
              "      border-right-color: var(--fill-color);\n",
              "    }\n",
              "    40% {\n",
              "      border-color: transparent;\n",
              "      border-right-color: var(--fill-color);\n",
              "      border-top-color: var(--fill-color);\n",
              "    }\n",
              "    60% {\n",
              "      border-color: transparent;\n",
              "      border-right-color: var(--fill-color);\n",
              "    }\n",
              "    80% {\n",
              "      border-color: transparent;\n",
              "      border-right-color: var(--fill-color);\n",
              "      border-bottom-color: var(--fill-color);\n",
              "    }\n",
              "    90% {\n",
              "      border-color: transparent;\n",
              "      border-bottom-color: var(--fill-color);\n",
              "    }\n",
              "  }\n",
              "</style>\n",
              "\n",
              "  <script>\n",
              "    async function quickchart(key) {\n",
              "      const quickchartButtonEl =\n",
              "        document.querySelector('#' + key + ' button');\n",
              "      quickchartButtonEl.disabled = true;  // To prevent multiple clicks.\n",
              "      quickchartButtonEl.classList.add('colab-df-spinner');\n",
              "      try {\n",
              "        const charts = await google.colab.kernel.invokeFunction(\n",
              "            'suggestCharts', [key], {});\n",
              "      } catch (error) {\n",
              "        console.error('Error during call to suggestCharts:', error);\n",
              "      }\n",
              "      quickchartButtonEl.classList.remove('colab-df-spinner');\n",
              "      quickchartButtonEl.classList.add('colab-df-quickchart-complete');\n",
              "    }\n",
              "    (() => {\n",
              "      let quickchartButtonEl =\n",
              "        document.querySelector('#df-d735c497-e50f-47eb-b4ab-99f4d998d50b button');\n",
              "      quickchartButtonEl.style.display =\n",
              "        google.colab.kernel.accessAllowed ? 'block' : 'none';\n",
              "    })();\n",
              "  </script>\n",
              "</div>\n",
              "\n",
              "    </div>\n",
              "  </div>\n"
            ],
            "application/vnd.google.colaboratory.intrinsic+json": {
              "type": "dataframe",
              "variable_name": "HFP_dataset",
              "summary": "{\n  \"name\": \"HFP_dataset\",\n  \"rows\": 918,\n  \"fields\": [\n    {\n      \"column\": \"Age\",\n      \"properties\": {\n        \"dtype\": \"number\",\n        \"std\": 9,\n        \"min\": 28,\n        \"max\": 77,\n        \"num_unique_values\": 50,\n        \"samples\": [\n          44,\n          68,\n          66\n        ],\n        \"semantic_type\": \"\",\n        \"description\": \"\"\n      }\n    },\n    {\n      \"column\": \"Sex\",\n      \"properties\": {\n        \"dtype\": \"category\",\n        \"num_unique_values\": 2,\n        \"samples\": [\n          \"F\",\n          \"M\"\n        ],\n        \"semantic_type\": \"\",\n        \"description\": \"\"\n      }\n    },\n    {\n      \"column\": \"ChestPainType\",\n      \"properties\": {\n        \"dtype\": \"category\",\n        \"num_unique_values\": 4,\n        \"samples\": [\n          \"NAP\",\n          \"TA\"\n        ],\n        \"semantic_type\": \"\",\n        \"description\": \"\"\n      }\n    },\n    {\n      \"column\": \"RestingBP\",\n      \"properties\": {\n        \"dtype\": \"number\",\n        \"std\": 18,\n        \"min\": 0,\n        \"max\": 200,\n        \"num_unique_values\": 67,\n        \"samples\": [\n          165,\n          118\n        ],\n        \"semantic_type\": \"\",\n        \"description\": \"\"\n      }\n    },\n    {\n      \"column\": \"Cholesterol\",\n      \"properties\": {\n        \"dtype\": \"number\",\n        \"std\": 109,\n        \"min\": 0,\n        \"max\": 603,\n        \"num_unique_values\": 222,\n        \"samples\": [\n          305,\n          321\n        ],\n        \"semantic_type\": \"\",\n        \"description\": \"\"\n      }\n    },\n    {\n      \"column\": \"FastingBS\",\n      \"properties\": {\n        \"dtype\": \"number\",\n        \"std\": 0,\n        \"min\": 0,\n        \"max\": 1,\n        \"num_unique_values\": 2,\n        \"samples\": [\n          1,\n          0\n        ],\n        \"semantic_type\": \"\",\n        \"description\": \"\"\n      }\n    },\n    {\n      \"column\": \"RestingECG\",\n      \"properties\": {\n        \"dtype\": \"category\",\n        \"num_unique_values\": 3,\n        \"samples\": [\n          \"Normal\",\n          \"ST\"\n        ],\n        \"semantic_type\": \"\",\n        \"description\": \"\"\n      }\n    },\n    {\n      \"column\": \"MaxHR\",\n      \"properties\": {\n        \"dtype\": \"number\",\n        \"std\": 25,\n        \"min\": 60,\n        \"max\": 202,\n        \"num_unique_values\": 119,\n        \"samples\": [\n          132,\n          157\n        ],\n        \"semantic_type\": \"\",\n        \"description\": \"\"\n      }\n    },\n    {\n      \"column\": \"ExerciseAngina\",\n      \"properties\": {\n        \"dtype\": \"category\",\n        \"num_unique_values\": 2,\n        \"samples\": [\n          \"Y\",\n          \"N\"\n        ],\n        \"semantic_type\": \"\",\n        \"description\": \"\"\n      }\n    },\n    {\n      \"column\": \"Oldpeak\",\n      \"properties\": {\n        \"dtype\": \"number\",\n        \"std\": 1.0665701510493233,\n        \"min\": -2.6,\n        \"max\": 6.2,\n        \"num_unique_values\": 53,\n        \"samples\": [\n          1.3,\n          0.6\n        ],\n        \"semantic_type\": \"\",\n        \"description\": \"\"\n      }\n    },\n    {\n      \"column\": \"ST_Slope\",\n      \"properties\": {\n        \"dtype\": \"category\",\n        \"num_unique_values\": 3,\n        \"samples\": [\n          \"Up\",\n          \"Flat\"\n        ],\n        \"semantic_type\": \"\",\n        \"description\": \"\"\n      }\n    },\n    {\n      \"column\": \"HeartDisease\",\n      \"properties\": {\n        \"dtype\": \"number\",\n        \"std\": 0,\n        \"min\": 0,\n        \"max\": 1,\n        \"num_unique_values\": 2,\n        \"samples\": [\n          1,\n          0\n        ],\n        \"semantic_type\": \"\",\n        \"description\": \"\"\n      }\n    }\n  ]\n}"
            }
          },
          "metadata": {},
          "execution_count": 2
        }
      ]
    },
    {
      "cell_type": "code",
      "source": [
        "# Check for missing values\n",
        "missing_values = HFP_dataset[pd.isnull(HFP_dataset).any(axis=1)]\n",
        "missing_values.head()"
      ],
      "metadata": {
        "colab": {
          "base_uri": "https://localhost:8080/",
          "height": 53
        },
        "id": "ZmKAU0eop3RX",
        "outputId": "f4162159-05bf-4b3b-bc22-29ec112a0aa4"
      },
      "execution_count": null,
      "outputs": [
        {
          "output_type": "execute_result",
          "data": {
            "text/plain": [
              "Empty DataFrame\n",
              "Columns: [Age, Sex, ChestPainType, RestingBP, Cholesterol, FastingBS, RestingECG, MaxHR, ExerciseAngina, Oldpeak, ST_Slope, HeartDisease]\n",
              "Index: []"
            ],
            "text/html": [
              "\n",
              "  <div id=\"df-7c04da29-1f53-4056-b847-21fb9170720d\" class=\"colab-df-container\">\n",
              "    <div>\n",
              "<style scoped>\n",
              "    .dataframe tbody tr th:only-of-type {\n",
              "        vertical-align: middle;\n",
              "    }\n",
              "\n",
              "    .dataframe tbody tr th {\n",
              "        vertical-align: top;\n",
              "    }\n",
              "\n",
              "    .dataframe thead th {\n",
              "        text-align: right;\n",
              "    }\n",
              "</style>\n",
              "<table border=\"1\" class=\"dataframe\">\n",
              "  <thead>\n",
              "    <tr style=\"text-align: right;\">\n",
              "      <th></th>\n",
              "      <th>Age</th>\n",
              "      <th>Sex</th>\n",
              "      <th>ChestPainType</th>\n",
              "      <th>RestingBP</th>\n",
              "      <th>Cholesterol</th>\n",
              "      <th>FastingBS</th>\n",
              "      <th>RestingECG</th>\n",
              "      <th>MaxHR</th>\n",
              "      <th>ExerciseAngina</th>\n",
              "      <th>Oldpeak</th>\n",
              "      <th>ST_Slope</th>\n",
              "      <th>HeartDisease</th>\n",
              "    </tr>\n",
              "  </thead>\n",
              "  <tbody>\n",
              "  </tbody>\n",
              "</table>\n",
              "</div>\n",
              "    <div class=\"colab-df-buttons\">\n",
              "\n",
              "  <div class=\"colab-df-container\">\n",
              "    <button class=\"colab-df-convert\" onclick=\"convertToInteractive('df-7c04da29-1f53-4056-b847-21fb9170720d')\"\n",
              "            title=\"Convert this dataframe to an interactive table.\"\n",
              "            style=\"display:none;\">\n",
              "\n",
              "  <svg xmlns=\"http://www.w3.org/2000/svg\" height=\"24px\" viewBox=\"0 -960 960 960\">\n",
              "    <path d=\"M120-120v-720h720v720H120Zm60-500h600v-160H180v160Zm220 220h160v-160H400v160Zm0 220h160v-160H400v160ZM180-400h160v-160H180v160Zm440 0h160v-160H620v160ZM180-180h160v-160H180v160Zm440 0h160v-160H620v160Z\"/>\n",
              "  </svg>\n",
              "    </button>\n",
              "\n",
              "  <style>\n",
              "    .colab-df-container {\n",
              "      display:flex;\n",
              "      gap: 12px;\n",
              "    }\n",
              "\n",
              "    .colab-df-convert {\n",
              "      background-color: #E8F0FE;\n",
              "      border: none;\n",
              "      border-radius: 50%;\n",
              "      cursor: pointer;\n",
              "      display: none;\n",
              "      fill: #1967D2;\n",
              "      height: 32px;\n",
              "      padding: 0 0 0 0;\n",
              "      width: 32px;\n",
              "    }\n",
              "\n",
              "    .colab-df-convert:hover {\n",
              "      background-color: #E2EBFA;\n",
              "      box-shadow: 0px 1px 2px rgba(60, 64, 67, 0.3), 0px 1px 3px 1px rgba(60, 64, 67, 0.15);\n",
              "      fill: #174EA6;\n",
              "    }\n",
              "\n",
              "    .colab-df-buttons div {\n",
              "      margin-bottom: 4px;\n",
              "    }\n",
              "\n",
              "    [theme=dark] .colab-df-convert {\n",
              "      background-color: #3B4455;\n",
              "      fill: #D2E3FC;\n",
              "    }\n",
              "\n",
              "    [theme=dark] .colab-df-convert:hover {\n",
              "      background-color: #434B5C;\n",
              "      box-shadow: 0px 1px 3px 1px rgba(0, 0, 0, 0.15);\n",
              "      filter: drop-shadow(0px 1px 2px rgba(0, 0, 0, 0.3));\n",
              "      fill: #FFFFFF;\n",
              "    }\n",
              "  </style>\n",
              "\n",
              "    <script>\n",
              "      const buttonEl =\n",
              "        document.querySelector('#df-7c04da29-1f53-4056-b847-21fb9170720d button.colab-df-convert');\n",
              "      buttonEl.style.display =\n",
              "        google.colab.kernel.accessAllowed ? 'block' : 'none';\n",
              "\n",
              "      async function convertToInteractive(key) {\n",
              "        const element = document.querySelector('#df-7c04da29-1f53-4056-b847-21fb9170720d');\n",
              "        const dataTable =\n",
              "          await google.colab.kernel.invokeFunction('convertToInteractive',\n",
              "                                                    [key], {});\n",
              "        if (!dataTable) return;\n",
              "\n",
              "        const docLinkHtml = 'Like what you see? Visit the ' +\n",
              "          '<a target=\"_blank\" href=https://colab.research.google.com/notebooks/data_table.ipynb>data table notebook</a>'\n",
              "          + ' to learn more about interactive tables.';\n",
              "        element.innerHTML = '';\n",
              "        dataTable['output_type'] = 'display_data';\n",
              "        await google.colab.output.renderOutput(dataTable, element);\n",
              "        const docLink = document.createElement('div');\n",
              "        docLink.innerHTML = docLinkHtml;\n",
              "        element.appendChild(docLink);\n",
              "      }\n",
              "    </script>\n",
              "  </div>\n",
              "\n",
              "\n",
              "    </div>\n",
              "  </div>\n"
            ],
            "application/vnd.google.colaboratory.intrinsic+json": {
              "type": "dataframe",
              "variable_name": "missing_values",
              "repr_error": "Out of range float values are not JSON compliant: nan"
            }
          },
          "metadata": {},
          "execution_count": 3
        }
      ]
    },
    {
      "cell_type": "code",
      "source": [
        "# Explore data types\n",
        "print(HFP_dataset.dtypes)"
      ],
      "metadata": {
        "colab": {
          "base_uri": "https://localhost:8080/"
        },
        "id": "zuDkZDWx51nz",
        "outputId": "25be4f21-cfb7-4a88-f5dc-4cc7313c0198"
      },
      "execution_count": null,
      "outputs": [
        {
          "output_type": "stream",
          "name": "stdout",
          "text": [
            "Age                 int64\n",
            "Sex                object\n",
            "ChestPainType      object\n",
            "RestingBP           int64\n",
            "Cholesterol         int64\n",
            "FastingBS           int64\n",
            "RestingECG         object\n",
            "MaxHR               int64\n",
            "ExerciseAngina     object\n",
            "Oldpeak           float64\n",
            "ST_Slope           object\n",
            "HeartDisease        int64\n",
            "dtype: object\n"
          ]
        }
      ]
    },
    {
      "cell_type": "code",
      "source": [
        "# Convert categorical variables to numerical\n",
        "# Sex: 'M' to 0, 'F' to 1\n",
        "HFP_dataset['Sex'] = HFP_dataset['Sex'].map({'M': 0, 'F': 1})\n",
        "# ExerciseAngina: 'N' to 1, 'Y' to 0\n",
        "HFP_dataset['ExerciseAngina'] = HFP_dataset['ExerciseAngina'].map({'N': 1, 'Y': 0})\n",
        "\n",
        "# One-hot encoding categorical variables\n",
        "chest_pain_dummies = pd.get_dummies(HFP_dataset['ChestPainType'],prefix='ChestPainType')\n",
        "HFP_dataset = pd.concat([HFP_dataset, chest_pain_dummies], axis=1)\n",
        "HFP_dataset.drop(columns=['ChestPainType'], inplace=True)\n",
        "\n",
        "ecg_dummies = pd.get_dummies(HFP_dataset['RestingECG'], prefix='RestingECG')\n",
        "HFP_dataset = pd.concat([HFP_dataset, ecg_dummies], axis=1)\n",
        "HFP_dataset.drop(columns=['RestingECG'], inplace=True)\n",
        "\n",
        "st_slope_dummies = pd.get_dummies(HFP_dataset['ST_Slope'], prefix='ST_Slope')\n",
        "HFP_dataset = pd.concat([HFP_dataset, st_slope_dummies], axis=1)\n",
        "HFP_dataset.drop(columns=['ST_Slope'], inplace=True)\n",
        "\n",
        "# Converting all Boolean columns in the DataFrame to integers (0 and 1)\n",
        "HFP_dataset = HFP_dataset.applymap(lambda x: int(x) if isinstance(x, bool) else x)\n",
        "\n",
        "# Display the updated dataset\n",
        "print(HFP_dataset.head())\n"
      ],
      "metadata": {
        "colab": {
          "base_uri": "https://localhost:8080/"
        },
        "id": "4iUo1VUZ6D7p",
        "outputId": "fa63d6d7-7041-4036-ef31-1a92eb046d08"
      },
      "execution_count": null,
      "outputs": [
        {
          "output_type": "stream",
          "name": "stdout",
          "text": [
            "   Age  Sex  RestingBP  Cholesterol  FastingBS  MaxHR  ExerciseAngina  \\\n",
            "0   40    0        140          289          0    172               1   \n",
            "1   49    1        160          180          0    156               1   \n",
            "2   37    0        130          283          0     98               1   \n",
            "3   48    1        138          214          0    108               0   \n",
            "4   54    0        150          195          0    122               1   \n",
            "\n",
            "   Oldpeak  HeartDisease  ChestPainType_ASY  ChestPainType_ATA  \\\n",
            "0      0.0             0                  0                  1   \n",
            "1      1.0             1                  0                  0   \n",
            "2      0.0             0                  0                  1   \n",
            "3      1.5             1                  1                  0   \n",
            "4      0.0             0                  0                  0   \n",
            "\n",
            "   ChestPainType_NAP  ChestPainType_TA  RestingECG_LVH  RestingECG_Normal  \\\n",
            "0                  0                 0               0                  1   \n",
            "1                  1                 0               0                  1   \n",
            "2                  0                 0               0                  0   \n",
            "3                  0                 0               0                  1   \n",
            "4                  1                 0               0                  1   \n",
            "\n",
            "   RestingECG_ST  ST_Slope_Down  ST_Slope_Flat  ST_Slope_Up  \n",
            "0              0              0              0            1  \n",
            "1              0              0              1            0  \n",
            "2              1              0              0            1  \n",
            "3              0              0              1            0  \n",
            "4              0              0              0            1  \n"
          ]
        },
        {
          "output_type": "stream",
          "name": "stderr",
          "text": [
            "<ipython-input-5-f2f758e4f209>:21: FutureWarning: DataFrame.applymap has been deprecated. Use DataFrame.map instead.\n",
            "  HFP_dataset = HFP_dataset.applymap(lambda x: int(x) if isinstance(x, bool) else x)\n"
          ]
        }
      ]
    },
    {
      "cell_type": "code",
      "source": [
        "# standardize numerical features since best for models LR\n",
        "scaler = StandardScaler()\n",
        "HFP_dataset[['RestingBP', 'Cholesterol', 'MaxHR']] = scaler.fit_transform(HFP_dataset[['RestingBP', 'Cholesterol', 'MaxHR']])"
      ],
      "metadata": {
        "id": "AfLB9ESdyfh4"
      },
      "execution_count": null,
      "outputs": []
    },
    {
      "cell_type": "code",
      "source": [
        "# defining features (SelectedFeatures) and target (TargetFeature)\n",
        "TargetFeature = HFP_dataset['HeartDisease'].copy()\n",
        "SelectedFeatures = HFP_dataset.drop(columns=['HeartDisease'])\n",
        "print(SelectedFeatures.head())"
      ],
      "metadata": {
        "colab": {
          "base_uri": "https://localhost:8080/"
        },
        "id": "RLN8FAIo9_4l",
        "outputId": "c6b899a3-1eac-472d-ed13-85fc482a68aa"
      },
      "execution_count": null,
      "outputs": [
        {
          "output_type": "stream",
          "name": "stdout",
          "text": [
            "   Age  Sex  RestingBP  Cholesterol  FastingBS     MaxHR  ExerciseAngina  \\\n",
            "0   40    0   0.410909     0.825070          0  1.382928               1   \n",
            "1   49    1   1.491752    -0.171961          0  0.754157               1   \n",
            "2   37    0  -0.129513     0.770188          0 -1.525138               1   \n",
            "3   48    1   0.302825     0.139040          0 -1.132156               0   \n",
            "4   54    0   0.951331    -0.034755          0 -0.581981               1   \n",
            "\n",
            "   Oldpeak  ChestPainType_ASY  ChestPainType_ATA  ChestPainType_NAP  \\\n",
            "0      0.0                  0                  1                  0   \n",
            "1      1.0                  0                  0                  1   \n",
            "2      0.0                  0                  1                  0   \n",
            "3      1.5                  1                  0                  0   \n",
            "4      0.0                  0                  0                  1   \n",
            "\n",
            "   ChestPainType_TA  RestingECG_LVH  RestingECG_Normal  RestingECG_ST  \\\n",
            "0                 0               0                  1              0   \n",
            "1                 0               0                  1              0   \n",
            "2                 0               0                  0              1   \n",
            "3                 0               0                  1              0   \n",
            "4                 0               0                  1              0   \n",
            "\n",
            "   ST_Slope_Down  ST_Slope_Flat  ST_Slope_Up  \n",
            "0              0              0            1  \n",
            "1              0              1            0  \n",
            "2              0              0            1  \n",
            "3              0              1            0  \n",
            "4              0              0            1  \n"
          ]
        }
      ]
    },
    {
      "cell_type": "code",
      "source": [
        "print(TargetFeature.head())"
      ],
      "metadata": {
        "colab": {
          "base_uri": "https://localhost:8080/"
        },
        "id": "hAK4Cxkr_8zr",
        "outputId": "a8e8812f-75bf-4ee0-b14d-f69afcf0d009"
      },
      "execution_count": null,
      "outputs": [
        {
          "output_type": "stream",
          "name": "stdout",
          "text": [
            "0    0\n",
            "1    1\n",
            "2    0\n",
            "3    1\n",
            "4    0\n",
            "Name: HeartDisease, dtype: int64\n"
          ]
        }
      ]
    },
    {
      "cell_type": "code",
      "source": [
        "# Split the data into training and testing sets (75% training, 25% testing)\n",
        "X_train, X_test, y_train, y_test = train_test_split(SelectedFeatures, TargetFeature, test_size=0.25, random_state=42)\n"
      ],
      "metadata": {
        "id": "l_UXiZULEvgc"
      },
      "execution_count": null,
      "outputs": []
    },
    {
      "cell_type": "code",
      "source": [
        "import pandas as pd\n",
        "import numpy as np\n",
        "from sklearn.preprocessing import StandardScaler\n",
        "from sklearn.model_selection import train_test_split, cross_val_score\n",
        "#libraries for LR\n",
        "from sklearn.linear_model import LogisticRegression\n",
        "\n",
        "#logistic regression model\n",
        "lr_model = LogisticRegression(max_iter=1000)\n",
        "\n",
        "# Performing cross-validation with K=4\n",
        "cv_scores = cross_val_score(lr_model, SelectedFeatures, TargetFeature, cv=4)\n",
        "print(\"Cross-Validation Scores:\", cv_scores)\n",
        "\n",
        "lr_model.fit(X_train, y_train)\n",
        "y_pred = lr_model.predict(X_test)\n",
        "\n",
        "#calculating accuracy, precision, and recall\n",
        "lr_accuracy = accuracy_score(y_test, y_pred)\n",
        "print(f\"Accuracy: {lr_accuracy}\")\n",
        "lr_precision = precision_score(y_test, y_pred)\n",
        "print(f\"Precision: {lr_precision}\")\n",
        "lr_recall = recall_score(y_test, y_pred)\n",
        "print(f\"Recall: {lr_recall}\")\n",
        "\n",
        "#confusion matrix\n",
        "lr_conf_matrix = confusion_matrix(y_test, y_pred)\n",
        "\n",
        "# Defining labels and plotting heatmap\n",
        "labels = [0,1]\n",
        "fig, ax = plt.subplots()\n",
        "tick_marks = np.arange(len(labels))\n",
        "plt.xticks(tick_marks, labels)\n",
        "plt.yticks(tick_marks, labels)\n",
        "\n",
        "# Plotting heatmap\n",
        "snsplot = sns.heatmap(pd.DataFrame(lr_conf_matrix), annot=True, cmap=\"YlGnBu\", fmt='g', cbar=True, ax=ax)\n",
        "ax.xaxis.set_label_position(\"top\")\n",
        "plt.title('Confusion Matrix', pad=20)\n",
        "plt.ylabel('Actual')\n",
        "plt.xlabel('Predicted')\n",
        "plt.show()\n",
        "tn, fp, fn, tp = lr_conf_matrix.ravel()\n",
        "total_correct = tn + tp\n",
        "total_misclassified = fp + fn\n",
        "print(f\"From the matrix:\")\n",
        "print(f\"The model correctly classified a total of {tn} (True Negatives) + {tp} (True Positives) = {total_correct} instances.\")\n",
        "print(f\"It misclassified a total of {fp} (False Positives) + {fn} (False Negatives) = {total_misclassified} instances.\")"
      ],
      "metadata": {
        "colab": {
          "base_uri": "https://localhost:8080/",
          "height": 601
        },
        "id": "4__l8pOfytMn",
        "outputId": "d17a4cc5-ae9b-4bf9-eb1c-f589b508cdb4"
      },
      "execution_count": null,
      "outputs": [
        {
          "output_type": "stream",
          "name": "stdout",
          "text": [
            "Cross-Validation Scores: [0.87391304 0.88695652 0.86026201 0.76419214]\n",
            "Accuracy: 0.8652173913043478\n",
            "Precision: 0.904\n",
            "Recall: 0.8560606060606061\n"
          ]
        },
        {
          "output_type": "display_data",
          "data": {
            "text/plain": [
              "<Figure size 640x480 with 2 Axes>"
            ],
            "image/png": "[encoded data removed]"
          },
          "metadata": {}
        },
        {
          "output_type": "stream",
          "name": "stdout",
          "text": [
            "From the matrix:\n",
            "The model correctly classified a total of 86 (True Negatives) + 113 (True Positives) = 199 instances.\n",
            "It misclassified a total of 12 (False Positives) + 19 (False Negatives) = 31 instances.\n"
          ]
        }
      ]
    },
    {
      "cell_type": "code",
      "source": [
        "import pandas as pd\n",
        "import numpy as np\n",
        "from sklearn.preprocessing import StandardScaler\n",
        "from sklearn.model_selection import train_test_split, cross_val_score\n",
        "#libraries for NB\n",
        "from sklearn.naive_bayes import GaussianNB\n",
        "\n",
        "\n",
        "#NAIVE BAYES\n",
        "nb_model = GaussianNB()\n",
        "\n",
        "# Performing cross-validation with K=4\n",
        "cv_scores = cross_val_score(nb_model, SelectedFeatures, TargetFeature, cv=4)\n",
        "print(\"Cross-Validation Scores:\", cv_scores)\n",
        "\n",
        "nb_model.fit(X_train, y_train)\n",
        "y_pred = nb_model.predict(X_test)\n",
        "\n",
        "#calculating accuracy, precision, and recall\n",
        "nb_accuracy = accuracy_score(y_test, y_pred)\n",
        "nb_precision = precision_score(y_test, y_pred)\n",
        "nb_recall = recall_score(y_test, y_pred)\n",
        "print(f\"Accuracy: {nb_accuracy}\")\n",
        "print(f\"Precision: {nb_precision}\")\n",
        "print(f\"Recall: {nb_recall}\")\n",
        "\n",
        "#confusion matrix\n",
        "nb_conf_matrix = confusion_matrix(y_test, y_pred)\n",
        "\n",
        "# Defining labels and plotting heatmap\n",
        "labels = [0,1]\n",
        "fig, ax = plt.subplots()\n",
        "tick_marks = np.arange(len(labels))\n",
        "plt.xticks(tick_marks, labels)\n",
        "plt.yticks(tick_marks, labels)\n",
        "\n",
        "# Plotting heatmap\n",
        "sns.heatmap(pd.DataFrame(nb_conf_matrix), annot=True, cmap=\"YlGnBu\", fmt='g', cbar=True, ax=ax)\n",
        "ax.xaxis.set_label_position(\"top\")\n",
        "plt.title('Confusion Matrix', pad=20)\n",
        "plt.ylabel('Actual')\n",
        "plt.xlabel('Predicted')\n",
        "plt.show()\n",
        "tn, fp, fn, tp = nb_conf_matrix.ravel()\n",
        "total_correct = tn + tp\n",
        "total_misclassified = fp + fn\n",
        "print(f\"From the matrix:\")\n",
        "print(f\"The model correctly classified a total of {tn} (True Negatives) + {tp} (True Positives) = {total_correct} instances.\")\n",
        "print(f\"It misclassified a total of {fp} (False Positives) + {fn} (False Negatives) = {total_misclassified} instances.\")"
      ],
      "metadata": {
        "colab": {
          "base_uri": "https://localhost:8080/",
          "height": 601
        },
        "id": "S7TFdvhr8bgP",
        "outputId": "64804200-366c-45c9-9fc4-23400b56b041"
      },
      "execution_count": null,
      "outputs": [
        {
          "output_type": "stream",
          "name": "stdout",
          "text": [
            "Cross-Validation Scores: [0.86086957 0.9        0.84716157 0.75545852]\n",
            "Accuracy: 0.8608695652173913\n",
            "Precision: 0.8968253968253969\n",
            "Recall: 0.8560606060606061\n"
          ]
        },
        {
          "output_type": "display_data",
          "data": {
            "text/plain": [
              "<Figure size 640x480 with 2 Axes>"
            ],
            "image/png": "[encoded data removed]"
          },
          "metadata": {}
        },
        {
          "output_type": "stream",
          "name": "stdout",
          "text": [
            "From the matrix:\n",
            "The model correctly classified a total of 85 (True Negatives) + 113 (True Positives) = 198 instances.\n",
            "It misclassified a total of 13 (False Positives) + 19 (False Negatives) = 32 instances.\n"
          ]
        }
      ]
    },
    {
      "cell_type": "code",
      "source": [
        "import pandas as pd\n",
        "import numpy as np\n",
        "from sklearn.preprocessing import StandardScaler\n",
        "from sklearn.model_selection import train_test_split, cross_val_score\n",
        "#librares for SVM\n",
        "from sklearn.svm import SVC\n",
        "from sklearn.metrics import confusion_matrix, accuracy_score, precision_score, recall_score\n",
        "from matplotlib import pyplot as plt\n",
        "import seaborn as sns\n",
        "\n",
        "#SVM\n",
        "kernels = ['linear','poly', 'rbf', 'sigmoid']\n",
        "for kernel in kernels:\n",
        "  svm_model = SVC(kernel=kernel, random_state = 42)\n",
        "  # Performing cross-validation with K=4\n",
        "  cv_scores = cross_val_score(svm_model, SelectedFeatures, TargetFeature, cv=4)\n",
        "  print(\"Cross-Validation Scores:\", cv_scores)\n",
        "\n",
        "  svm_model.fit(X_train, y_train)\n",
        "  y_pred = svm_model.predict(X_test)\n",
        "\n",
        "  #calculating accuracy, precision, and recall\n",
        "  kaccuracy = accuracy_score(y_test, y_pred)\n",
        "  kprecision = precision_score(y_test, y_pred)\n",
        "  krecall = recall_score(y_test, y_pred)\n",
        "  print(f\"Kernel: {kernel}\")\n",
        "  print(f\"Accuracy: {kaccuracy}\")\n",
        "  print(f\"Precision: {kprecision}\")\n",
        "  print(f\"Recall: {krecall}\")\n",
        "\n",
        "  #confusion matrix\n",
        "  svm_conf_matrix = confusion_matrix(y_test, y_pred)\n",
        "\n",
        "  # Defining labels and plotting heatmap\n",
        "  labels = [0,1]\n",
        "  fig, ax = plt.subplots()\n",
        "  tick_marks = np.arange(len(labels))\n",
        "  plt.xticks(tick_marks, labels)\n",
        "  plt.yticks(tick_marks, labels)\n",
        "\n",
        "  # Plotting heatmap\n",
        "  sns.heatmap(pd.DataFrame(svm_conf_matrix), annot=True, cmap=\"YlGnBu\", fmt='g', cbar=True, ax=ax)\n",
        "  ax.xaxis.set_label_position(\"top\")\n",
        "  plt.title(f'Confusion Matrix -{kernel}', pad=20)\n",
        "  plt.ylabel('Actual')\n",
        "  plt.xlabel('Predicted')\n",
        "  plt.show()\n",
        "  tn, fp, fn, tp = svm_conf_matrix.ravel()\n",
        "  total_correct = tn + tp\n",
        "  total_misclassified = fp + fn\n",
        "  print(f\"From the matrix:\")\n",
        "  print(f\"The model correctly classified a total of {tn} (True Negatives) + {tp} (True Positives) = {total_correct} instances.\")\n",
        "  print(f\"It misclassified a total of {fp} (False Positives) + {fn} (False Negatives) = {total_misclassified} instances.\")"
      ],
      "metadata": {
        "colab": {
          "base_uri": "https://localhost:8080/",
          "height": 1000
        },
        "id": "ARNPA1Fz8grG",
        "outputId": "850406e2-7d90-4950-d295-1b6e28a337be"
      },
      "execution_count": null,
      "outputs": [
        {
          "output_type": "stream",
          "name": "stdout",
          "text": [
            "Cross-Validation Scores: [0.8826087  0.88695652 0.86026201 0.73799127]\n",
            "Kernel: linear\n",
            "Accuracy: 0.8608695652173913\n",
            "Precision: 0.9032258064516129\n",
            "Recall: 0.8484848484848485\n"
          ]
        },
        {
          "output_type": "display_data",
          "data": {
            "text/plain": [
              "<Figure size 640x480 with 2 Axes>"
            ],
            "image/png": "[encoded data removed]"
          },
          "metadata": {}
        },
        {
          "output_type": "stream",
          "name": "stdout",
          "text": [
            "From the matrix:\n",
            "The model correctly classified a total of 86 (True Negatives) + 112 (True Positives) = 198 instances.\n",
            "It misclassified a total of 12 (False Positives) + 20 (False Negatives) = 32 instances.\n",
            "Cross-Validation Scores: [0.70434783 0.79565217 0.79912664 0.72925764]\n",
            "Kernel: poly\n",
            "Accuracy: 0.7434782608695653\n",
            "Precision: 0.8288288288288288\n",
            "Recall: 0.696969696969697\n"
          ]
        },
        {
          "output_type": "display_data",
          "data": {
            "text/plain": [
              "<Figure size 640x480 with 2 Axes>"
            ],
            "image/png": "[encoded data removed]"
          },
          "metadata": {}
        },
        {
          "output_type": "stream",
          "name": "stdout",
          "text": [
            "From the matrix:\n",
            "The model correctly classified a total of 79 (True Negatives) + 92 (True Positives) = 171 instances.\n",
            "It misclassified a total of 19 (False Positives) + 40 (False Negatives) = 59 instances.\n",
            "Cross-Validation Scores: [0.72173913 0.70434783 0.70305677 0.69432314]\n",
            "Kernel: rbf\n",
            "Accuracy: 0.7\n",
            "Precision: 0.723404255319149\n",
            "Recall: 0.7727272727272727\n"
          ]
        },
        {
          "output_type": "display_data",
          "data": {
            "text/plain": [
              "<Figure size 640x480 with 2 Axes>"
            ],
            "image/png": "[encoded data removed]"
          },
          "metadata": {}
        },
        {
          "output_type": "stream",
          "name": "stdout",
          "text": [
            "From the matrix:\n",
            "The model correctly classified a total of 59 (True Negatives) + 102 (True Positives) = 161 instances.\n",
            "It misclassified a total of 39 (False Positives) + 30 (False Negatives) = 69 instances.\n",
            "Cross-Validation Scores: [0.50434783 0.35217391 0.34497817 0.36681223]\n",
            "Kernel: sigmoid\n",
            "Accuracy: 0.45652173913043476\n",
            "Precision: 0.5244755244755245\n",
            "Recall: 0.5681818181818182\n"
          ]
        },
        {
          "output_type": "display_data",
          "data": {
            "text/plain": [
              "<Figure size 640x480 with 2 Axes>"
            ],
            "image/png": "[encoded data removed]"
          },
          "metadata": {}
        },
        {
          "output_type": "stream",
          "name": "stdout",
          "text": [
            "From the matrix:\n",
            "The model correctly classified a total of 30 (True Negatives) + 75 (True Positives) = 105 instances.\n",
            "It misclassified a total of 68 (False Positives) + 57 (False Negatives) = 125 instances.\n"
          ]
        }
      ]
    }
  ]
}